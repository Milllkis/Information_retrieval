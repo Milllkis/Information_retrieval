{
 "cells": [
  {
   "cell_type": "code",
   "execution_count": null,
   "metadata": {
    "vscode": {
     "languageId": "plaintext"
    }
   },
   "outputs": [],
   "source": [
    "import requests\n",
    "\n",
    "# Базовый URL для API\n",
    "base_url = \"http://127.0.0.1:8000/api\"\n",
    "\n",
    "# Пример 1: Получение списка доступных методов поиска\n",
    "response = requests.get(f\"{base_url}/methods\")\n",
    "print(response.json())\n",
    "\n",
    "# Пример 2: Получение информации о корпусе\n",
    "response = requests.get(f\"{base_url}/corpus\")\n",
    "print(response.json())\n",
    "\n",
    "# Пример 3: Поиск по запросу с использованием метода TF-IDF\n",
    "search_payload = {\n",
    "    \"query\": \"example query\",\n",
    "    \"method\": \"tf-idf\",\n",
    "    \"limit\": 5\n",
    "}\n",
    "response = requests.post(f\"{base_url}/search\", json=search_payload)\n",
    "print(response.json())\n",
    "\n",
    "# Пример 4: Поиск по запросу с использованием метода BERT\n",
    "search_payload = {\n",
    "    \"query\": \"example query\",\n",
    "    \"method\": \"bert\",\n",
    "    \"limit\": 5\n",
    "}\n",
    "response = requests.post(f\"{base_url}/search\", json=search_payload)\n",
    "print(response.json())"
   ]
  }
 ],
 "metadata": {
  "language_info": {
   "name": "python"
  }
 },
 "nbformat": 4,
 "nbformat_minor": 2
}
